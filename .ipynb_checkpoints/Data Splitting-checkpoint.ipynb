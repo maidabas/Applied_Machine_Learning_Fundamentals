{
 "cells": [
  {
   "cell_type": "markdown",
   "id": "a9927110-9126-4ffe-bb34-2727c32e69d3",
   "metadata": {},
   "source": [
    "# Measuring Success: Splitting the data for train, valudation and test sets\n",
    "\n",
    "- Train - 60%\n",
    "- Validation - 20%\n",
    "- Test - 20%\n",
    "\n",
    "*Our imported data is already splitted so this whole process doen't need to be performned*"
   ]
  },
  {
   "cell_type": "markdown",
   "id": "77d796bc-ac83-4db8-bafe-840906b3a150",
   "metadata": {},
   "source": [
    "### Read the data"
   ]
  },
  {
   "cell_type": "raw",
   "id": "f1ac083b-7bfb-4a3a-b696-0112516c82fa",
   "metadata": {},
   "source": [
    "import pandas as pd\n",
    "from sklearn.model_selection import train_test_split\n",
    "\n",
    "titanic = pd.read_csv()"
   ]
  },
  {
   "cell_type": "markdown",
   "id": "45ecc09e-43ad-4b63-be6e-2ed8713ab63e",
   "metadata": {},
   "source": [
    "### Split into train, validation and test set"
   ]
  },
  {
   "cell_type": "raw",
   "id": "e07c10a9-dcdb-4334-b497-347fbbb9b53d",
   "metadata": {},
   "source": [
    "# create a feature input and a labels target\n",
    "features = titanic.drop('Survived', axis=1)\n",
    "labels = titanic['Survived']\n",
    "\n",
    "# the features will be splitted into train and test, and then the labels will be splitted into train and test in a 60%-40% train-test ratio:\n",
    "X_train, X_test, y_train, y_test = train_test_split(features, labels, test_size = 0.4, random_state=42)\n",
    "\n",
    "# then we wplit the test test into validation and test sets with a 50%-50% ratio \n",
    "X_val, X_test, y_val, y_test = train_test_split(X_test, y_test, test_size = 0.5, random_state=42)\n",
    "\n",
    "# finally we will get a training set of 60%, validation set of 20% and test set of 20%)\n",
    "print((len(labels)), len(y_train), len(y_vald), len(y_test))"
   ]
  },
  {
   "cell_type": "markdown",
   "id": "ec683700-57c5-4d80-90b4-bd02aabc1e35",
   "metadata": {},
   "source": []
  }
 ],
 "metadata": {
  "kernelspec": {
   "display_name": "Python 3 (ipykernel)",
   "language": "python",
   "name": "python3"
  },
  "language_info": {
   "codemirror_mode": {
    "name": "ipython",
    "version": 3
   },
   "file_extension": ".py",
   "mimetype": "text/x-python",
   "name": "python",
   "nbconvert_exporter": "python",
   "pygments_lexer": "ipython3",
   "version": "3.9.13"
  }
 },
 "nbformat": 4,
 "nbformat_minor": 5
}
